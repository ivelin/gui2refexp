{
  "cells": [
    {
      "cell_type": "markdown",
      "metadata": {
        "id": "view-in-github",
        "colab_type": "text"
      },
      "source": [
        "<a href=\"https://colab.research.google.com/github/ivelin/gui2refexp/blob/main/gui_refexp_colab.ipynb\" target=\"_parent\"><img src=\"https://colab.research.google.com/assets/colab-badge.svg\" alt=\"Open In Colab\"/></a>"
      ]
    },
    {
      "cell_type": "markdown",
      "metadata": {
        "id": "DWYDuD37BTOl"
      },
      "source": [
        "# GUI RefExp Notebook\n",
        "\n",
        "*   Based on LayoutML model suggested in this [IPA paper](https://github.com/debymf/ipa_probing)\n",
        "*   Initial fine tuning on Rico SCA dataset\n",
        "\n"
      ]
    },
    {
      "cell_type": "markdown",
      "metadata": {
        "id": "9LXnZTznBTOr"
      },
      "source": [
        "Install the Transformers, Datasets, and Evaluate libraries to run this notebook."
      ]
    },
    {
      "cell_type": "code",
      "source": [
        "#@title Checkout source files from github repo\n",
        "![[ -d \"gui2refexp\" ]] || git clone https://github.com/ivelin/gui2refexp.git\n",
        "\n",
        "!cd gui2refexp && git pull\n"
      ],
      "metadata": {
        "colab": {
          "base_uri": "https://localhost:8080/"
        },
        "id": "HADV9ncQbmX-",
        "outputId": "2c0a810d-8196-4828-b69d-de6c218dea76"
      },
      "execution_count": 44,
      "outputs": [
        {
          "output_type": "stream",
          "name": "stdout",
          "text": [
            "Already up to date.\n"
          ]
        }
      ]
    },
    {
      "cell_type": "code",
      "execution_count": 45,
      "metadata": {
        "id": "RTy5GI0fBTOr",
        "colab": {
          "base_uri": "https://localhost:8080/"
        },
        "outputId": "befc4d96-ab3f-4d9b-e3c5-1288d354487c"
      },
      "outputs": [
        {
          "output_type": "stream",
          "name": "stdout",
          "text": [
            "Looking in indexes: https://pypi.org/simple, https://us-python.pkg.dev/colab-wheels/public/simple/\n",
            "Requirement already satisfied: numpy>=1.12 in /usr/local/lib/python3.8/dist-packages (from -r gui2refexp/requirements.txt (line 1)) (1.21.6)\n",
            "Requirement already satisfied: dynaconf>=2.2.3 in /usr/local/lib/python3.8/dist-packages (from -r gui2refexp/requirements.txt (line 2)) (2.2.3)\n",
            "Requirement already satisfied: pandas>=0.24.2 in /usr/local/lib/python3.8/dist-packages (from -r gui2refexp/requirements.txt (line 3)) (1.3.5)\n",
            "Requirement already satisfied: loguru>=0.4.1 in /usr/local/lib/python3.8/dist-packages (from -r gui2refexp/requirements.txt (line 4)) (0.4.1)\n",
            "Requirement already satisfied: transformers[sentencepiece]>=4.25 in /usr/local/lib/python3.8/dist-packages (from -r gui2refexp/requirements.txt (line 5)) (4.25.1)\n",
            "Requirement already satisfied: datasets in /usr/local/lib/python3.8/dist-packages (from -r gui2refexp/requirements.txt (line 6)) (2.8.0)\n",
            "Requirement already satisfied: evaluate in /usr/local/lib/python3.8/dist-packages (from -r gui2refexp/requirements.txt (line 7)) (0.4.0)\n",
            "Requirement already satisfied: tqdm in /usr/local/lib/python3.8/dist-packages (from -r gui2refexp/requirements.txt (line 8)) (4.64.1)\n",
            "Requirement already satisfied: scipy>=1.2 in /usr/local/lib/python3.8/dist-packages (from -r gui2refexp/requirements.txt (line 9)) (1.7.3)\n",
            "Requirement already satisfied: torch in /usr/local/lib/python3.8/dist-packages (from -r gui2refexp/requirements.txt (line 10)) (1.4.0)\n",
            "Requirement already satisfied: prefect>=0.11.1 in /usr/local/lib/python3.8/dist-packages (from -r gui2refexp/requirements.txt (line 11)) (0.11.1)\n",
            "Requirement already satisfied: overrides>=1.9 in /usr/local/lib/python3.8/dist-packages (from -r gui2refexp/requirements.txt (line 12)) (1.9)\n",
            "Requirement already satisfied: scikit_learn>=0.24.2 in /usr/local/lib/python3.8/dist-packages (from -r gui2refexp/requirements.txt (line 13)) (0.24.2)\n",
            "Requirement already satisfied: click in /usr/local/lib/python3.8/dist-packages (from dynaconf>=2.2.3->-r gui2refexp/requirements.txt (line 2)) (7.1.2)\n",
            "Requirement already satisfied: toml in /usr/local/lib/python3.8/dist-packages (from dynaconf>=2.2.3->-r gui2refexp/requirements.txt (line 2)) (0.10.2)\n",
            "Requirement already satisfied: python-dotenv in /usr/local/lib/python3.8/dist-packages (from dynaconf>=2.2.3->-r gui2refexp/requirements.txt (line 2)) (0.21.0)\n",
            "Requirement already satisfied: python-box<4.0.0 in /usr/local/lib/python3.8/dist-packages (from dynaconf>=2.2.3->-r gui2refexp/requirements.txt (line 2)) (3.4.6)\n",
            "Requirement already satisfied: pytz>=2017.3 in /usr/local/lib/python3.8/dist-packages (from pandas>=0.24.2->-r gui2refexp/requirements.txt (line 3)) (2022.7)\n",
            "Requirement already satisfied: python-dateutil>=2.7.3 in /usr/local/lib/python3.8/dist-packages (from pandas>=0.24.2->-r gui2refexp/requirements.txt (line 3)) (2.8.2)\n",
            "Requirement already satisfied: requests in /usr/local/lib/python3.8/dist-packages (from transformers[sentencepiece]>=4.25->-r gui2refexp/requirements.txt (line 5)) (2.25.1)\n",
            "Requirement already satisfied: packaging>=20.0 in /usr/local/lib/python3.8/dist-packages (from transformers[sentencepiece]>=4.25->-r gui2refexp/requirements.txt (line 5)) (21.3)\n",
            "Requirement already satisfied: huggingface-hub<1.0,>=0.10.0 in /usr/local/lib/python3.8/dist-packages (from transformers[sentencepiece]>=4.25->-r gui2refexp/requirements.txt (line 5)) (0.11.1)\n",
            "Requirement already satisfied: regex!=2019.12.17 in /usr/local/lib/python3.8/dist-packages (from transformers[sentencepiece]>=4.25->-r gui2refexp/requirements.txt (line 5)) (2022.6.2)\n",
            "Requirement already satisfied: filelock in /usr/local/lib/python3.8/dist-packages (from transformers[sentencepiece]>=4.25->-r gui2refexp/requirements.txt (line 5)) (3.8.2)\n",
            "Requirement already satisfied: tokenizers!=0.11.3,<0.14,>=0.11.1 in /usr/local/lib/python3.8/dist-packages (from transformers[sentencepiece]>=4.25->-r gui2refexp/requirements.txt (line 5)) (0.13.2)\n",
            "Requirement already satisfied: pyyaml>=5.1 in /usr/local/lib/python3.8/dist-packages (from transformers[sentencepiece]>=4.25->-r gui2refexp/requirements.txt (line 5)) (5.3.1)\n",
            "Requirement already satisfied: protobuf<=3.20.2 in /usr/local/lib/python3.8/dist-packages (from transformers[sentencepiece]>=4.25->-r gui2refexp/requirements.txt (line 5)) (3.19.6)\n",
            "Requirement already satisfied: sentencepiece!=0.1.92,>=0.1.91 in /usr/local/lib/python3.8/dist-packages (from transformers[sentencepiece]>=4.25->-r gui2refexp/requirements.txt (line 5)) (0.1.97)\n",
            "Requirement already satisfied: multiprocess in /usr/local/lib/python3.8/dist-packages (from datasets->-r gui2refexp/requirements.txt (line 6)) (0.70.14)\n",
            "Requirement already satisfied: fsspec[http]>=2021.11.1 in /usr/local/lib/python3.8/dist-packages (from datasets->-r gui2refexp/requirements.txt (line 6)) (2022.11.0)\n",
            "Requirement already satisfied: pyarrow>=6.0.0 in /usr/local/lib/python3.8/dist-packages (from datasets->-r gui2refexp/requirements.txt (line 6)) (9.0.0)\n",
            "Requirement already satisfied: dill<0.3.7 in /usr/local/lib/python3.8/dist-packages (from datasets->-r gui2refexp/requirements.txt (line 6)) (0.3.6)\n",
            "Requirement already satisfied: xxhash in /usr/local/lib/python3.8/dist-packages (from datasets->-r gui2refexp/requirements.txt (line 6)) (3.2.0)\n",
            "Requirement already satisfied: responses<0.19 in /usr/local/lib/python3.8/dist-packages (from datasets->-r gui2refexp/requirements.txt (line 6)) (0.18.0)\n",
            "Requirement already satisfied: aiohttp in /usr/local/lib/python3.8/dist-packages (from datasets->-r gui2refexp/requirements.txt (line 6)) (3.8.3)\n",
            "Requirement already satisfied: docker<5.0,>=3.4.1 in /usr/local/lib/python3.8/dist-packages (from prefect>=0.11.1->-r gui2refexp/requirements.txt (line 11)) (4.4.4)\n",
            "Requirement already satisfied: marshmallow-oneofschema<3.0,>=2.0.0b2 in /usr/local/lib/python3.8/dist-packages (from prefect>=0.11.1->-r gui2refexp/requirements.txt (line 11)) (2.1.0)\n",
            "Requirement already satisfied: python-slugify<5.0,>=1.2.6 in /usr/local/lib/python3.8/dist-packages (from prefect>=0.11.1->-r gui2refexp/requirements.txt (line 11)) (4.0.1)\n",
            "Requirement already satisfied: dask[bag]<3.0,>=0.19.3 in /usr/local/lib/python3.8/dist-packages (from prefect>=0.11.1->-r gui2refexp/requirements.txt (line 11)) (2.30.0)\n",
            "Requirement already satisfied: urllib3>=1.24.3 in /usr/local/lib/python3.8/dist-packages (from prefect>=0.11.1->-r gui2refexp/requirements.txt (line 11)) (1.26.13)\n",
            "Requirement already satisfied: distributed<3.0,>=1.26.1 in /usr/local/lib/python3.8/dist-packages (from prefect>=0.11.1->-r gui2refexp/requirements.txt (line 11)) (2.20.0)\n",
            "Requirement already satisfied: cloudpickle<1.5,>=0.6.0 in /usr/local/lib/python3.8/dist-packages (from prefect>=0.11.1->-r gui2refexp/requirements.txt (line 11)) (1.4.1)\n",
            "Requirement already satisfied: mypy-extensions<1.0,>=0.4.0 in /usr/local/lib/python3.8/dist-packages (from prefect>=0.11.1->-r gui2refexp/requirements.txt (line 11)) (0.4.3)\n",
            "Requirement already satisfied: pendulum<3.0,>=2.0.4 in /usr/local/lib/python3.8/dist-packages (from prefect>=0.11.1->-r gui2refexp/requirements.txt (line 11)) (2.1.2)\n",
            "Requirement already satisfied: croniter<1.0,>=0.3.24 in /usr/local/lib/python3.8/dist-packages (from prefect>=0.11.1->-r gui2refexp/requirements.txt (line 11)) (0.3.37)\n",
            "Requirement already satisfied: marshmallow<3.6.1,>=3.0.0b19 in /usr/local/lib/python3.8/dist-packages (from prefect>=0.11.1->-r gui2refexp/requirements.txt (line 11)) (3.6.0)\n",
            "Requirement already satisfied: tabulate<1.0,>=0.8.0 in /usr/local/lib/python3.8/dist-packages (from prefect>=0.11.1->-r gui2refexp/requirements.txt (line 11)) (0.8.10)\n",
            "Requirement already satisfied: threadpoolctl>=2.0.0 in /usr/local/lib/python3.8/dist-packages (from scikit_learn>=0.24.2->-r gui2refexp/requirements.txt (line 13)) (3.1.0)\n",
            "Requirement already satisfied: joblib>=0.11 in /usr/local/lib/python3.8/dist-packages (from scikit_learn>=0.24.2->-r gui2refexp/requirements.txt (line 13)) (1.2.0)\n",
            "Requirement already satisfied: natsort in /usr/local/lib/python3.8/dist-packages (from croniter<1.0,>=0.3.24->prefect>=0.11.1->-r gui2refexp/requirements.txt (line 11)) (5.5.0)\n",
            "Requirement already satisfied: toolz>=0.8.2 in /usr/local/lib/python3.8/dist-packages (from dask[bag]<3.0,>=0.19.3->prefect>=0.11.1->-r gui2refexp/requirements.txt (line 11)) (0.12.0)\n",
            "Requirement already satisfied: partd>=0.3.10 in /usr/local/lib/python3.8/dist-packages (from dask[bag]<3.0,>=0.19.3->prefect>=0.11.1->-r gui2refexp/requirements.txt (line 11)) (1.3.0)\n",
            "Requirement already satisfied: psutil>=5.0 in /usr/local/lib/python3.8/dist-packages (from distributed<3.0,>=1.26.1->prefect>=0.11.1->-r gui2refexp/requirements.txt (line 11)) (5.4.8)\n",
            "Requirement already satisfied: tblib>=1.6.0 in /usr/local/lib/python3.8/dist-packages (from distributed<3.0,>=1.26.1->prefect>=0.11.1->-r gui2refexp/requirements.txt (line 11)) (1.7.0)\n",
            "Requirement already satisfied: sortedcontainers!=2.0.0,!=2.0.1 in /usr/local/lib/python3.8/dist-packages (from distributed<3.0,>=1.26.1->prefect>=0.11.1->-r gui2refexp/requirements.txt (line 11)) (2.4.0)\n",
            "Requirement already satisfied: setuptools in /usr/local/lib/python3.8/dist-packages (from distributed<3.0,>=1.26.1->prefect>=0.11.1->-r gui2refexp/requirements.txt (line 11)) (57.4.0)\n",
            "Requirement already satisfied: msgpack>=0.6.0 in /usr/local/lib/python3.8/dist-packages (from distributed<3.0,>=1.26.1->prefect>=0.11.1->-r gui2refexp/requirements.txt (line 11)) (1.0.4)\n",
            "Requirement already satisfied: zict>=0.1.3 in /usr/local/lib/python3.8/dist-packages (from distributed<3.0,>=1.26.1->prefect>=0.11.1->-r gui2refexp/requirements.txt (line 11)) (2.2.0)\n",
            "Requirement already satisfied: tornado>=6.0.3 in /usr/local/lib/python3.8/dist-packages (from distributed<3.0,>=1.26.1->prefect>=0.11.1->-r gui2refexp/requirements.txt (line 11)) (6.0.4)\n",
            "Requirement already satisfied: websocket-client>=0.32.0 in /usr/local/lib/python3.8/dist-packages (from docker<5.0,>=3.4.1->prefect>=0.11.1->-r gui2refexp/requirements.txt (line 11)) (1.4.2)\n",
            "Requirement already satisfied: six>=1.4.0 in /usr/local/lib/python3.8/dist-packages (from docker<5.0,>=3.4.1->prefect>=0.11.1->-r gui2refexp/requirements.txt (line 11)) (1.15.0)\n",
            "Requirement already satisfied: attrs>=17.3.0 in /usr/local/lib/python3.8/dist-packages (from aiohttp->datasets->-r gui2refexp/requirements.txt (line 6)) (22.2.0)\n",
            "Requirement already satisfied: charset-normalizer<3.0,>=2.0 in /usr/local/lib/python3.8/dist-packages (from aiohttp->datasets->-r gui2refexp/requirements.txt (line 6)) (2.1.1)\n",
            "Requirement already satisfied: yarl<2.0,>=1.0 in /usr/local/lib/python3.8/dist-packages (from aiohttp->datasets->-r gui2refexp/requirements.txt (line 6)) (1.8.2)\n",
            "Requirement already satisfied: multidict<7.0,>=4.5 in /usr/local/lib/python3.8/dist-packages (from aiohttp->datasets->-r gui2refexp/requirements.txt (line 6)) (6.0.3)\n",
            "Requirement already satisfied: frozenlist>=1.1.1 in /usr/local/lib/python3.8/dist-packages (from aiohttp->datasets->-r gui2refexp/requirements.txt (line 6)) (1.3.3)\n",
            "Requirement already satisfied: aiosignal>=1.1.2 in /usr/local/lib/python3.8/dist-packages (from aiohttp->datasets->-r gui2refexp/requirements.txt (line 6)) (1.3.1)\n",
            "Requirement already satisfied: async-timeout<5.0,>=4.0.0a3 in /usr/local/lib/python3.8/dist-packages (from aiohttp->datasets->-r gui2refexp/requirements.txt (line 6)) (4.0.2)\n",
            "Requirement already satisfied: typing-extensions>=3.7.4.3 in /usr/local/lib/python3.8/dist-packages (from huggingface-hub<1.0,>=0.10.0->transformers[sentencepiece]>=4.25->-r gui2refexp/requirements.txt (line 5)) (4.4.0)\n",
            "Requirement already satisfied: pyparsing!=3.0.5,>=2.0.2 in /usr/local/lib/python3.8/dist-packages (from packaging>=20.0->transformers[sentencepiece]>=4.25->-r gui2refexp/requirements.txt (line 5)) (3.0.9)\n",
            "Requirement already satisfied: pytzdata>=2020.1 in /usr/local/lib/python3.8/dist-packages (from pendulum<3.0,>=2.0.4->prefect>=0.11.1->-r gui2refexp/requirements.txt (line 11)) (2020.1)\n",
            "Requirement already satisfied: text-unidecode>=1.3 in /usr/local/lib/python3.8/dist-packages (from python-slugify<5.0,>=1.2.6->prefect>=0.11.1->-r gui2refexp/requirements.txt (line 11)) (1.3)\n",
            "Requirement already satisfied: certifi>=2017.4.17 in /usr/local/lib/python3.8/dist-packages (from requests->transformers[sentencepiece]>=4.25->-r gui2refexp/requirements.txt (line 5)) (2022.12.7)\n",
            "Requirement already satisfied: chardet<5,>=3.0.2 in /usr/local/lib/python3.8/dist-packages (from requests->transformers[sentencepiece]>=4.25->-r gui2refexp/requirements.txt (line 5)) (4.0.0)\n",
            "Requirement already satisfied: idna<3,>=2.5 in /usr/local/lib/python3.8/dist-packages (from requests->transformers[sentencepiece]>=4.25->-r gui2refexp/requirements.txt (line 5)) (2.10)\n",
            "Requirement already satisfied: locket in /usr/local/lib/python3.8/dist-packages (from partd>=0.3.10->dask[bag]<3.0,>=0.19.3->prefect>=0.11.1->-r gui2refexp/requirements.txt (line 11)) (1.0.0)\n",
            "Requirement already satisfied: heapdict in /usr/local/lib/python3.8/dist-packages (from zict>=0.1.3->distributed<3.0,>=1.26.1->prefect>=0.11.1->-r gui2refexp/requirements.txt (line 11)) (1.0.1)\n"
          ]
        }
      ],
      "source": [
        "#@title Install third party libs\n",
        "!pip install -r gui2refexp/requirements.txt\n"
      ]
    },
    {
      "cell_type": "code",
      "source": [],
      "metadata": {
        "id": "TobL13lQaIIK"
      },
      "execution_count": null,
      "outputs": []
    },
    {
      "cell_type": "code",
      "execution_count": null,
      "metadata": {
        "id": "dU5IVTPUBTOy"
      },
      "outputs": [],
      "source": [
        "!wget https://github.com/crux82/squad-it/raw/master/SQuAD_it-train.json.gz\n",
        "!wget https://github.com/crux82/squad-it/raw/master/SQuAD_it-test.json.gz"
      ]
    },
    {
      "cell_type": "code",
      "execution_count": null,
      "metadata": {
        "id": "uikHwxF8BTO0"
      },
      "outputs": [],
      "source": [
        "!gzip -dkv SQuAD_it-*.json.gz"
      ]
    },
    {
      "cell_type": "code",
      "execution_count": null,
      "metadata": {
        "id": "E-GDyuGUBTO1"
      },
      "outputs": [],
      "source": [
        "from datasets import load_dataset\n",
        "\n",
        "squad_it_dataset = load_dataset(\"json\", data_files=\"SQuAD_it-train.json\", field=\"data\")"
      ]
    },
    {
      "cell_type": "code",
      "execution_count": null,
      "metadata": {
        "id": "TrwtvotSBTO2",
        "outputId": "9ce8657d-ca3e-4ec5-c955-3e6498511043"
      },
      "outputs": [
        {
          "data": {
            "text/plain": [
              "DatasetDict({\n",
              "    train: Dataset({\n",
              "        features: ['title', 'paragraphs'],\n",
              "        num_rows: 442\n",
              "    })\n",
              "})"
            ]
          },
          "execution_count": null,
          "metadata": {},
          "output_type": "execute_result"
        }
      ],
      "source": [
        "squad_it_dataset"
      ]
    },
    {
      "cell_type": "code",
      "execution_count": null,
      "metadata": {
        "id": "N1wCiKCjBTO4",
        "outputId": "25a313b2-fb4d-4746-e9b7-5722d6e066d3"
      },
      "outputs": [
        {
          "data": {
            "text/plain": [
              "{\n",
              "    \"title\": \"Terremoto del Sichuan del 2008\",\n",
              "    \"paragraphs\": [\n",
              "        {\n",
              "            \"context\": \"Il terremoto del Sichuan del 2008 o il terremoto...\",\n",
              "            \"qas\": [\n",
              "                {\n",
              "                    \"answers\": [{\"answer_start\": 29, \"text\": \"2008\"}],\n",
              "                    \"id\": \"56cdca7862d2951400fa6826\",\n",
              "                    \"question\": \"In quale anno si è verificato il terremoto nel Sichuan?\",\n",
              "                },\n",
              "                ...\n",
              "            ],\n",
              "        },\n",
              "        ...\n",
              "    ],\n",
              "}"
            ]
          },
          "execution_count": null,
          "metadata": {},
          "output_type": "execute_result"
        }
      ],
      "source": [
        "squad_it_dataset[\"train\"][0]"
      ]
    },
    {
      "cell_type": "code",
      "execution_count": null,
      "metadata": {
        "id": "Mkz_7qCEBTO5",
        "outputId": "e40316c5-67ea-42f0-be0a-198f94c12cda"
      },
      "outputs": [
        {
          "data": {
            "text/plain": [
              "DatasetDict({\n",
              "    train: Dataset({\n",
              "        features: ['title', 'paragraphs'],\n",
              "        num_rows: 442\n",
              "    })\n",
              "    test: Dataset({\n",
              "        features: ['title', 'paragraphs'],\n",
              "        num_rows: 48\n",
              "    })\n",
              "})"
            ]
          },
          "execution_count": null,
          "metadata": {},
          "output_type": "execute_result"
        }
      ],
      "source": [
        "data_files = {\"train\": \"SQuAD_it-train.json\", \"test\": \"SQuAD_it-test.json\"}\n",
        "squad_it_dataset = load_dataset(\"json\", data_files=data_files, field=\"data\")\n",
        "squad_it_dataset"
      ]
    },
    {
      "cell_type": "code",
      "execution_count": null,
      "metadata": {
        "id": "shpV8vsyBTO5"
      },
      "outputs": [],
      "source": [
        "data_files = {\"train\": \"SQuAD_it-train.json.gz\", \"test\": \"SQuAD_it-test.json.gz\"}\n",
        "squad_it_dataset = load_dataset(\"json\", data_files=data_files, field=\"data\")"
      ]
    },
    {
      "cell_type": "code",
      "execution_count": null,
      "metadata": {
        "id": "Q4fPr4K5BTO6"
      },
      "outputs": [],
      "source": [
        "url = \"https://github.com/crux82/squad-it/raw/master/\"\n",
        "data_files = {\n",
        "    \"train\": url + \"SQuAD_it-train.json.gz\",\n",
        "    \"test\": url + \"SQuAD_it-test.json.gz\",\n",
        "}\n",
        "squad_it_dataset = load_dataset(\"json\", data_files=data_files, field=\"data\")"
      ]
    }
  ],
  "metadata": {
    "colab": {
      "name": "What if my dataset isn't on the Hub?",
      "provenance": [],
      "include_colab_link": true
    },
    "language_info": {
      "name": "python"
    },
    "kernelspec": {
      "name": "python3",
      "display_name": "Python 3"
    },
    "gpuClass": "standard",
    "accelerator": "GPU"
  },
  "nbformat": 4,
  "nbformat_minor": 0
}